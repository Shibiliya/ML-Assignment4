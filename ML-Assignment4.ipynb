{
 "cells": [
  {
   "cell_type": "code",
   "execution_count": 28,
   "id": "f3ada024-0231-4ddf-85d9-75e978953006",
   "metadata": {},
   "outputs": [],
   "source": [
    "#Importing Libraries and Matrices\n",
    "import numpy as np\n",
    "import pandas as pd\n",
    "import matplotlib.pyplot as plt\n",
    "import seaborn as sns\n",
    "from sklearn.datasets import load_breast_cancer\n",
    "from sklearn.model_selection import train_test_split\n",
    "from sklearn.preprocessing import StandardScaler\n",
    "from sklearn.linear_model import LogisticRegression\n",
    "from sklearn.tree import DecisionTreeClassifier\n",
    "from sklearn.ensemble import RandomForestClassifier\n",
    "from sklearn.svm import SVC\n",
    "from sklearn.neighbors import KNeighborsClassifier\n",
    "from sklearn.metrics import accuracy_score, classification_report, confusion_matrix"
   ]
  },
  {
   "cell_type": "code",
   "execution_count": 30,
   "id": "98702918-f27f-4fb6-9130-f77a8694cf45",
   "metadata": {},
   "outputs": [],
   "source": [
    "# 1. Load the dataset\n",
    "data = load_breast_cancer()\n",
    "df = pd.DataFrame(data.data, columns=data.feature_names)\n",
    "df['target'] = data.target"
   ]
  },
  {
   "cell_type": "code",
   "execution_count": 32,
   "id": "2b24cc90-6f2c-4ddc-b2ab-4dc12be4a380",
   "metadata": {},
   "outputs": [
    {
     "name": "stdout",
     "output_type": "stream",
     "text": [
      "mean radius                0\n",
      "mean texture               0\n",
      "mean perimeter             0\n",
      "mean area                  0\n",
      "mean smoothness            0\n",
      "mean compactness           0\n",
      "mean concavity             0\n",
      "mean concave points        0\n",
      "mean symmetry              0\n",
      "mean fractal dimension     0\n",
      "radius error               0\n",
      "texture error              0\n",
      "perimeter error            0\n",
      "area error                 0\n",
      "smoothness error           0\n",
      "compactness error          0\n",
      "concavity error            0\n",
      "concave points error       0\n",
      "symmetry error             0\n",
      "fractal dimension error    0\n",
      "worst radius               0\n",
      "worst texture              0\n",
      "worst perimeter            0\n",
      "worst area                 0\n",
      "worst smoothness           0\n",
      "worst compactness          0\n",
      "worst concavity            0\n",
      "worst concave points       0\n",
      "worst symmetry             0\n",
      "worst fractal dimension    0\n",
      "target                     0\n",
      "dtype: int64\n"
     ]
    }
   ],
   "source": [
    "# Check for missing values\n",
    "print(df.isnull().sum()) "
   ]
  },
  {
   "cell_type": "code",
   "execution_count": 58,
   "id": "cbb808ce-53fe-4f9a-a2a0-552d80c78587",
   "metadata": {},
   "outputs": [],
   "source": [
    "# Splitting the dataset\n",
    "X = df.drop(columns=['target'])\n",
    "y = df['target']\n",
    "X_train, X_test, y_train, y_test = train_test_split(X, y, test_size=0.2, random_state=42)"
   ]
  },
  {
   "cell_type": "code",
   "execution_count": 60,
   "id": "a4910bda-9cc6-40f7-bdab-459b8a8e0d9b",
   "metadata": {},
   "outputs": [],
   "source": [
    "# Feature Scaling\n",
    "scaler = StandardScaler()\n",
    "X_train = scaler.fit_transform(X_train)\n",
    "X_test = scaler.transform(X_test)\n"
   ]
  },
  {
   "cell_type": "markdown",
   "id": "5bb4b0c5-689a-46a6-ae56-c8ab367a66e9",
   "metadata": {},
   "source": [
    "Why These Preprocessing Steps Are Necessary?\n",
    "\n",
    "1.Ensures Data Consistency: Scaling puts all features on the same scale, improving model convergence.\n",
    "\n",
    "2.Prevents Bias Due to Large-Scale Features: Without scaling, algorithms that rely on distance (SVM, k-NN) would be dominated by features with large values.\n",
    "\n",
    "3.Avoids Overfitting: Proper splitting ensures the model generalizes well rather than memorizing the training data.\n",
    "\n",
    "4.Handles Missing Values (if any): Though this dataset had none, checking for and handling missing data is a best practice.\n",
    "\n"
   ]
  },
  {
   "cell_type": "code",
   "execution_count": 63,
   "id": "f0ad55d1-0144-4173-849b-b21daa47f04c",
   "metadata": {},
   "outputs": [],
   "source": [
    "# Initialize models\n",
    "models = {\n",
    "    \"Logistic Regression\": LogisticRegression(),\n",
    "    \"Decision Tree\": DecisionTreeClassifier(),\n",
    "    \"Random Forest\": RandomForestClassifier(),\n",
    "    \"SVM\": SVC(),\n",
    "    \"k-NN\": KNeighborsClassifier()\n",
    "}\n"
   ]
  },
  {
   "cell_type": "code",
   "execution_count": 65,
   "id": "6959a3a6-677f-4db3-a881-a27c20af32a8",
   "metadata": {},
   "outputs": [
    {
     "name": "stdout",
     "output_type": "stream",
     "text": [
      "Logistic Regression Accuracy: 0.9737\n",
      "              precision    recall  f1-score   support\n",
      "\n",
      "           0       0.98      0.95      0.96        43\n",
      "           1       0.97      0.99      0.98        71\n",
      "\n",
      "    accuracy                           0.97       114\n",
      "   macro avg       0.97      0.97      0.97       114\n",
      "weighted avg       0.97      0.97      0.97       114\n",
      "\n",
      "[[41  2]\n",
      " [ 1 70]]\n",
      "--------------------------------------------------\n",
      "Decision Tree Accuracy: 0.9386\n",
      "              precision    recall  f1-score   support\n",
      "\n",
      "           0       0.93      0.91      0.92        43\n",
      "           1       0.94      0.96      0.95        71\n",
      "\n",
      "    accuracy                           0.94       114\n",
      "   macro avg       0.94      0.93      0.93       114\n",
      "weighted avg       0.94      0.94      0.94       114\n",
      "\n",
      "[[39  4]\n",
      " [ 3 68]]\n",
      "--------------------------------------------------\n",
      "Random Forest Accuracy: 0.9649\n",
      "              precision    recall  f1-score   support\n",
      "\n",
      "           0       0.98      0.93      0.95        43\n",
      "           1       0.96      0.99      0.97        71\n",
      "\n",
      "    accuracy                           0.96       114\n",
      "   macro avg       0.97      0.96      0.96       114\n",
      "weighted avg       0.97      0.96      0.96       114\n",
      "\n",
      "[[40  3]\n",
      " [ 1 70]]\n",
      "--------------------------------------------------\n",
      "SVM Accuracy: 0.9825\n",
      "              precision    recall  f1-score   support\n",
      "\n",
      "           0       1.00      0.95      0.98        43\n",
      "           1       0.97      1.00      0.99        71\n",
      "\n",
      "    accuracy                           0.98       114\n",
      "   macro avg       0.99      0.98      0.98       114\n",
      "weighted avg       0.98      0.98      0.98       114\n",
      "\n",
      "[[41  2]\n",
      " [ 0 71]]\n",
      "--------------------------------------------------\n",
      "k-NN Accuracy: 0.9474\n",
      "              precision    recall  f1-score   support\n",
      "\n",
      "           0       0.93      0.93      0.93        43\n",
      "           1       0.96      0.96      0.96        71\n",
      "\n",
      "    accuracy                           0.95       114\n",
      "   macro avg       0.94      0.94      0.94       114\n",
      "weighted avg       0.95      0.95      0.95       114\n",
      "\n",
      "[[40  3]\n",
      " [ 3 68]]\n",
      "--------------------------------------------------\n"
     ]
    }
   ],
   "source": [
    "# Train and evaluate models\n",
    "results = {}\n",
    "for name, model in models.items():\n",
    "    model.fit(X_train, y_train)\n",
    "    y_pred = model.predict(X_test)\n",
    "    acc = accuracy_score(y_test, y_pred)\n",
    "    results[name] = acc\n",
    "    print(f\"{name} Accuracy: {acc:.4f}\")\n",
    "    print(classification_report(y_test, y_pred))\n",
    "    print(confusion_matrix(y_test, y_pred))\n",
    "    print(\"-\"*50)\n"
   ]
  },
  {
   "cell_type": "markdown",
   "id": "315ca237-b0b4-4c58-a365-acedf4ef03bd",
   "metadata": {},
   "source": [
    "1. Logistic Regression  \n",
    "  How It Works:\n",
    "\n",
    "Logistic Regression is a statistical model that predicts the probability of a binary outcome using the logistic (sigmoid) function.\n",
    "\n",
    "It calculates a weighted sum of input features and applies the sigmoid function to map it between 0 and 1.\n",
    "\n",
    "Why It’s Suitable:  \n",
    "✅ Works well for linearly separable data.  \n",
    "✅ Computationally efficient and interpretable.  \n",
    "✅ Outputs probabilities, helping in medical decision-making.  \n",
    "❌ May struggle with non-linear relationships.  \n",
    "\n",
    "2. Decision Tree Classifier  \n",
    "  How It Works:  \n",
    "\n",
    "A Decision Tree splits the dataset recursively based on feature values, forming a tree-like structure.\n",
    "\n",
    "It makes decisions by following a sequence of if-else conditions.\n",
    "\n",
    "Why It’s Suitable:  \n",
    "✅ Handles both linear and non-linear relationships.  \n",
    "✅ Provides interpretability (e.g., \"if cell size > X, then likely malignant\").  \n",
    "✅ No need for feature scaling.  \n",
    "❌ Can overfit if not pruned or regularized.  \n",
    "\n",
    "3. Random Forest Classifier  \n",
    "  How It Works:  \n",
    "\n",
    "A Random Forest is an ensemble of multiple Decision Trees.\n",
    "\n",
    "It uses bootstrap aggregation (bagging):\n",
    "\n",
    "Randomly selects subsets of data.\n",
    "\n",
    "Builds multiple trees.\n",
    "\n",
    "Averages predictions (for classification, uses majority voting).\n",
    "\n",
    "Why It’s Suitable:  \n",
    "✅ Reduces overfitting compared to a single Decision Tree.  \n",
    "✅ Performs well on large datasets with many features.  \n",
    "✅ Handles missing values and noisy data well.  \n",
    "❌ Can be computationally expensive.  \n",
    "\n",
    "4. Support Vector Machine (SVM)  \n",
    "  How It Works:  \n",
    "\n",
    "SVM finds the best hyperplane that separates the two classes with the maximum margin.\n",
    "\n",
    "Uses kernel trick (linear, polynomial, RBF) to handle non-linear data.\n",
    "\n",
    "Why It’s Suitable:  \n",
    "✅ Works well when the classes are well-separated.  \n",
    "✅ Robust to high-dimensional data (30 features in this dataset).  \n",
    "✅ Can handle non-linearity with appropriate kernels.  \n",
    "❌ Computationally expensive on large datasets.  \n",
    "❌ Sensitive to feature scaling.  \n",
    "\n",
    "5. k-Nearest Neighbors (k-NN)  \n",
    "  How It Works:  \n",
    "\n",
    "Classifies a new data point by finding the K closest data points (neighbors) and taking a majority vote.\n",
    "\n",
    "Uses distance metrics like Euclidean distance.\n",
    "\n",
    "Why It’s Suitable:  \n",
    "✅ Simple and non-parametric (no assumption about data distribution).  \n",
    "✅ Works well with small to medium-sized datasets.  \n",
    "✅ Can detect complex decision boundaries.  \n",
    "❌ Computationally expensive for large datasets (distance calculation for all points).  \n",
    "❌ Performance depends on choosing the right K value.  \n",
    "\n",
    "Which Model Might Perform Best?  \n",
    "Random Forest or SVM are likely to perform best because:  \n",
    "✅ Random Forest is robust against overfitting and can handle non-linearity.  \n",
    "✅ SVM is great at handling high-dimensional data and finding optimal decision boundaries.  \n",
    "\n",
    "Logistic Regression might perform well if the data is mostly linearly separable.\n",
    "\n",
    "Decision Trees and k-NN might be more prone to overfitting or computational inefficiency."
   ]
  },
  {
   "cell_type": "code",
   "execution_count": 67,
   "id": "3ec0ad4f-26e8-4a6b-b662-682b1514dbdb",
   "metadata": {},
   "outputs": [
    {
     "data": {
      "image/png": "[encoded data removed]",
      "text/plain": [
       "<Figure size 1000x500 with 1 Axes>"
      ]
     },
     "metadata": {},
     "output_type": "display_data"
    }
   ],
   "source": [
    "# Compare model performance\n",
    "plt.figure(figsize=(10, 5))\n",
    "plt.bar(results.keys(), results.values(), color=['blue', 'green', 'red', 'purple', 'orange'])\n",
    "plt.xlabel(\"Model\")\n",
    "plt.ylabel(\"Accuracy\")\n",
    "plt.title(\"Model Comparison\")\n",
    "plt.show()"
   ]
  },
  {
   "cell_type": "markdown",
   "id": "4d8b5fe0-73bf-4f57-9c31-7ea84e47e788",
   "metadata": {},
   "source": [
    "Model\tAccuracy:  \n",
    "Logistic Regression\t0.9737  \n",
    "Decision Tree\t0.9386 \n",
    "Random Forest\t0.9649  \n",
    "SVM\t0.9825  \n",
    "k-NN\t0.9474  \n",
    "\n",
    "Best Performing Model is SVM  with an Accuracy of 0.9825  \n",
    "Decision tree is the worst performing model with an Accuracy of 0.9386\n"
   ]
  },
  {
   "cell_type": "code",
   "execution_count": 69,
   "id": "db56df3e-742c-49a7-874b-7d5f51e11ee9",
   "metadata": {},
   "outputs": [
    {
     "name": "stdout",
     "output_type": "stream",
     "text": [
      "Best Performing Model: SVM with Accuracy 0.9825\n",
      "Worst Performing Model: Decision Tree with Accuracy 0.9386\n"
     ]
    }
   ],
   "source": [
    "# Print best and worst models\n",
    "best_model = max(results, key=results.get)\n",
    "worst_model = min(results, key=results.get)\n",
    "print(f\"Best Performing Model: {best_model} with Accuracy {results[best_model]:.4f}\")\n",
    "print(f\"Worst Performing Model: {worst_model} with Accuracy {results[worst_model]:.4f}\")\n"
   ]
  },
  {
   "cell_type": "code",
   "execution_count": null,
   "id": "cd41d5a8-3774-4b1a-bab4-7d5756f93a75",
   "metadata": {},
   "outputs": [],
   "source": []
  }
 ],
 "metadata": {
  "kernelspec": {
   "display_name": "Python 3 (ipykernel)",
   "language": "python",
   "name": "python3"
  },
  "language_info": {
   "codemirror_mode": {
    "name": "ipython",
    "version": 3
   },
   "file_extension": ".py",
   "mimetype": "text/x-python",
   "name": "python",
   "nbconvert_exporter": "python",
   "pygments_lexer": "ipython3",
   "version": "3.12.7"
  }
 },
 "nbformat": 4,
 "nbformat_minor": 5
}
